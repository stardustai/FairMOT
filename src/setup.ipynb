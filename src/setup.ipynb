{
 "metadata": {
  "language_info": {
   "codemirror_mode": {
    "name": "ipython",
    "version": 3
   },
   "file_extension": ".py",
   "mimetype": "text/x-python",
   "name": "python",
   "nbconvert_exporter": "python",
   "pygments_lexer": "ipython3",
   "version": 3
  },
  "orig_nbformat": 4
 },
 "nbformat": 4,
 "nbformat_minor": 2,
 "cells": [
  {
   "cell_type": "code",
   "execution_count": null,
   "metadata": {},
   "outputs": [],
   "source": [
    "!git clone -b production https://github.com/stardustai/FairMOT/\n",
    "%cd FairMOT\n",
    "!pip install torch==1.7.0 torchvision==0.8.0\n",
    "!pip install cudatoolkit==10.2\n",
    "!pip install cython\n",
    "!pip install -r requirements.txt\n",
    "import torch\n",
    "torch.__version__"
   ]
  },
  {
   "cell_type": "code",
   "execution_count": null,
   "metadata": {},
   "outputs": [],
   "source": [
    "# compile DCNv2\n",
    "!git clone -b pytorch_1.7 https://github.com/ifzhang/DCNv2.git\n",
    "%cd DCNv2\n",
    "!./make.sh\n",
    "%cd .."
   ]
  },
  {
   "cell_type": "code",
   "execution_count": null,
   "metadata": {},
   "outputs": [],
   "source": [
    "# prepare data\n",
    "import os\n",
    "os.makedirs('models', exist_ok=True)\n",
    "# !cp ../drive/MyDrive/Data/FairMOT/ctdet_coco_dla_2x.pth models/\n",
    "# !cp ../drive/MyDrive/Data/FairMOT/fairmot_dla34.pth models/\n",
    "# !cp ../drive/MyDrive/Data/FairMOT/video2.mp4 videos/\n",
    "# !cp ../drive/MyDrive/Data/FairMOT/kitti_tracking.zip kitti_tracking/\n",
    "!unzip kitti_tracking/kitti_tracking.zip -d kitti_tracking/"
   ]
  }
 ]
}